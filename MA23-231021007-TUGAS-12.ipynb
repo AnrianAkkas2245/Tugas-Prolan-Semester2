{
 "cells": [
  {
   "cell_type": "markdown",
   "metadata": {},
   "source": [
    "$$x + 2y + 3z = 4$$\n",
    "\n",
    "$$5x + 6y + 7z = 8$$\n",
    "\n",
    "$$9x + 10y + 11z = 12$$"
   ]
  },
  {
   "cell_type": "code",
   "execution_count": 24,
   "metadata": {},
   "outputs": [
    {
     "name": "stdout",
     "output_type": "stream",
     "text": [
      "nilai x= -0.7500000000000002\n",
      "nilai y= 0.5000000000000002\n",
      "nilai z= 1.25\n"
     ]
    }
   ],
   "source": [
    "import numpy as np\n",
    "\n",
    "\n",
    "def solusi(A,b):\n",
    "    if np.linalg.det(A) == 0:\n",
    "        print('Solusi Tidak Ada')\n",
    "    else: \n",
    "        hasil = np.linalg.solve(A,b)\n",
    "        print('nilai x=', hasil[0,0])\n",
    "        print('nilai y=', hasil[1,0])\n",
    "        print('nilai z=', hasil[2,0])\n",
    "        return \n",
    "\n",
    "A = np.array([[1,2,3],\n",
    "             [5,6,7],\n",
    "             [9,10,11]])\n",
    "b =np.array([[4],\n",
    "            [8],\n",
    "            [12]])\n",
    "\n",
    "# hasil = [x]\n",
    "#         [y]\n",
    "#         [z]\n",
    "hasil = solusi(A,b)\n"
   ]
  },
  {
   "cell_type": "markdown",
   "metadata": {},
   "source": [
    "$$x_1 - x_2 + 2x_3 + x_4 = -1$$\n",
    "\n",
    "$$2x_1 + x_2 + x_3 - x_4 = 4$$\n",
    "\n",
    "$$x_1 + 2x_2 - x_3 - 2x_4 = 5$$\n",
    "\n",
    "$$x_1 + x_3 = 1$$"
   ]
  },
  {
   "cell_type": "code",
   "execution_count": 25,
   "metadata": {},
   "outputs": [
    {
     "name": "stdout",
     "output_type": "stream",
     "text": [
      "Solusi Tidak Ada\n"
     ]
    }
   ],
   "source": [
    "def solusi(A,b):\n",
    "    if np.linalg.det(A) == 0:\n",
    "        print('Solusi Tidak Ada')\n",
    "    else: \n",
    "        hasil = np.linalg.solve(A,b)\n",
    "        print('nilai x_1=', hasil[0,0])\n",
    "        print('nilai x_2=', hasil[1,0])\n",
    "        print('nilai x_3=', hasil[2,0])\n",
    "        print('nilai x_4=', hasil[3,0])\n",
    "        return \n",
    "\n",
    "A = np.array([[1,-1,2,1],\n",
    "             [2,1,1,-1],\n",
    "             [1,2,-1,-2],\n",
    "             [1,0,1,0]])\n",
    "b =np.array([[-1],\n",
    "            [4],\n",
    "            [5],\n",
    "            [1]])\n",
    "\n",
    "# hasil = [x_1]\n",
    "#         [x_2]\n",
    "#         [x_3]\n",
    "#         [x_4]\n",
    "hasil = solusi(A,b)"
   ]
  },
  {
   "cell_type": "markdown",
   "metadata": {},
   "source": [
    "$$2x_1 + x_2 + x_4 + 2x_5 = 0$$\n",
    "\n",
    "$$x_1 + x_2 - x_3 = 0$$\n",
    "\n",
    "$$x_1 + x_2 + x_3 - 3x_4 + 2x_5 = 0$$\n",
    "\n",
    "$$2x_1 + 2x_2 - x_3 + x_5 = 0$$\n",
    "\n",
    "$$x_1 + x_2 = 7$$\n",
    "\n"
   ]
  },
  {
   "cell_type": "code",
   "execution_count": 31,
   "metadata": {},
   "outputs": [
    {
     "name": "stdout",
     "output_type": "stream",
     "text": [
      "nilai x_1= 7.0\n",
      "nilai x_2= 0.0\n",
      "nilai x_3= 7.0\n",
      "nilai x_4= -0.0\n",
      "nilai x_5= -7.0\n"
     ]
    }
   ],
   "source": [
    "def solusi(A,b):\n",
    "    if np.linalg.det(A) == 0:\n",
    "        print('Solusi Tidak Ada')\n",
    "    else: \n",
    "        hasil = np.linalg.solve(A,b)\n",
    "        print('nilai x_1=', hasil[0,0])\n",
    "        print('nilai x_2=', hasil[1,0])\n",
    "        print('nilai x_3=', hasil[2,0])\n",
    "        print('nilai x_4=', hasil[3,0])\n",
    "        print('nilai x_5=', hasil[4,0])\n",
    "        return \n",
    "\n",
    "A = np.array([[2,1,0,1,2],\n",
    "             [1,1,-1,0,0],\n",
    "             [1,1,1,-3,2],\n",
    "             [2,2,-1,0,1],\n",
    "             [1,1,0,0,0]])\n",
    "b =np.array([[0],\n",
    "            [0],\n",
    "            [0],\n",
    "            [0],\n",
    "            [7]])\n",
    "\n",
    "# hasil = [x_1]\n",
    "#         [x_2]\n",
    "#         [x_3]\n",
    "#         [x_4]\n",
    "#         [x_5]\n",
    "hasil = solusi(A,b)\n"
   ]
  }
 ],
 "metadata": {
  "kernelspec": {
   "display_name": "Python 3",
   "language": "python",
   "name": "python3"
  },
  "language_info": {
   "codemirror_mode": {
    "name": "ipython",
    "version": 3
   },
   "file_extension": ".py",
   "mimetype": "text/x-python",
   "name": "python",
   "nbconvert_exporter": "python",
   "pygments_lexer": "ipython3",
   "version": "3.12.2"
  }
 },
 "nbformat": 4,
 "nbformat_minor": 2
}
